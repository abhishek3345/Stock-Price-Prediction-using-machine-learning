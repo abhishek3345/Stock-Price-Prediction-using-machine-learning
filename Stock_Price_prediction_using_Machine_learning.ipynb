{
  "nbformat": 4,
  "nbformat_minor": 0,
  "metadata": {
    "colab": {
      "provenance": []
    },
    "kernelspec": {
      "name": "python3",
      "display_name": "Python 3"
    },
    "language_info": {
      "name": "python"
    }
  },
  "cells": [
    {
      "cell_type": "code",
      "execution_count": 2,
      "metadata": {
        "id": "L8xMP5_-Wzkk"
      },
      "outputs": [],
      "source": [
        "import math\n",
        "import pandas_datareader as web\n",
        "import numpy as np\n",
        "import pandas as pd\n",
        "from sklearn.preprocessing import MinMaxScaler\n",
        "from keras.models import Sequential\n",
        "from keras.layers import Dense, LSTM\n",
        "import matplotlib.pyplot as plt\n",
        "import yfinance as yahooFinance\n",
        "plt.style.use('fivethirtyeight')"
      ]
    },
    {
      "cell_type": "code",
      "source": [
        "#Get the stock data set\n",
        "Getstockinfo = yahooFinance.Ticker(\"MSFT\")\n",
        " \n",
        "# Valid options are 1d, 5d, 1mo, 3mo, 6mo, 1y, 2y, 5y, 10y and ytd.\n",
        "df = Getstockinfo.history(period=\"10y\")\n",
        "df"
      ],
      "metadata": {
        "colab": {
          "base_uri": "https://localhost:8080/",
          "height": 455
        },
        "id": "VDA9Q46erhUp",
        "outputId": "72b7415e-2f94-45e2-c75b-bdaf38028984"
      },
      "execution_count": 45,
      "outputs": [
        {
          "output_type": "execute_result",
          "data": {
            "text/plain": [
              "                                 Open        High         Low       Close  \\\n",
              "Date                                                                        \n",
              "2012-11-23 00:00:00-05:00   22.453101   22.898370   22.428364   22.840651   \n",
              "2012-11-26 00:00:00-05:00   22.708721   22.741703   22.403628   22.585033   \n",
              "2012-11-27 00:00:00-05:00   22.560297   22.576787   22.296434   22.329416   \n",
              "2012-11-28 00:00:00-05:00   22.271698   22.585035   22.073801   22.560299   \n",
              "2012-11-29 00:00:00-05:00   22.354159   22.560302   22.148015   22.222227   \n",
              "...                               ...         ...         ...         ...   \n",
              "2022-11-16 00:00:00-05:00  242.789993  243.800003  240.419998  241.729996   \n",
              "2022-11-17 00:00:00-05:00  237.779999  243.250000  237.630005  241.679993   \n",
              "2022-11-18 00:00:00-05:00  243.509995  243.740005  239.029999  241.220001   \n",
              "2022-11-21 00:00:00-05:00  241.429993  244.669998  241.190002  242.050003   \n",
              "2022-11-22 00:00:00-05:00  243.589996  243.899994  240.710007  242.029999   \n",
              "\n",
              "                             Volume  Dividends  Stock Splits  \n",
              "Date                                                          \n",
              "2012-11-23 00:00:00-05:00  57845700       0.00             0  \n",
              "2012-11-26 00:00:00-05:00  85198700       0.00             0  \n",
              "2012-11-27 00:00:00-05:00  45018600       0.00             0  \n",
              "2012-11-28 00:00:00-05:00  53018400       0.00             0  \n",
              "2012-11-29 00:00:00-05:00  69551400       0.00             0  \n",
              "...                             ...        ...           ...  \n",
              "2022-11-16 00:00:00-05:00  24093300       0.68             0  \n",
              "2022-11-17 00:00:00-05:00  23123500       0.00             0  \n",
              "2022-11-18 00:00:00-05:00  27591800       0.00             0  \n",
              "2022-11-21 00:00:00-05:00  26378300       0.00             0  \n",
              "2022-11-22 00:00:00-05:00   3542408       0.00             0  \n",
              "\n",
              "[2518 rows x 7 columns]"
            ],
            "text/html": [
              "\n",
              "  <div id=\"df-af523f7b-cb9b-412e-9ba0-190c61f51c21\">\n",
              "    <div class=\"colab-df-container\">\n",
              "      <div>\n",
              "<style scoped>\n",
              "    .dataframe tbody tr th:only-of-type {\n",
              "        vertical-align: middle;\n",
              "    }\n",
              "\n",
              "    .dataframe tbody tr th {\n",
              "        vertical-align: top;\n",
              "    }\n",
              "\n",
              "    .dataframe thead th {\n",
              "        text-align: right;\n",
              "    }\n",
              "</style>\n",
              "<table border=\"1\" class=\"dataframe\">\n",
              "  <thead>\n",
              "    <tr style=\"text-align: right;\">\n",
              "      <th></th>\n",
              "      <th>Open</th>\n",
              "      <th>High</th>\n",
              "      <th>Low</th>\n",
              "      <th>Close</th>\n",
              "      <th>Volume</th>\n",
              "      <th>Dividends</th>\n",
              "      <th>Stock Splits</th>\n",
              "    </tr>\n",
              "    <tr>\n",
              "      <th>Date</th>\n",
              "      <th></th>\n",
              "      <th></th>\n",
              "      <th></th>\n",
              "      <th></th>\n",
              "      <th></th>\n",
              "      <th></th>\n",
              "      <th></th>\n",
              "    </tr>\n",
              "  </thead>\n",
              "  <tbody>\n",
              "    <tr>\n",
              "      <th>2012-11-23 00:00:00-05:00</th>\n",
              "      <td>22.453101</td>\n",
              "      <td>22.898370</td>\n",
              "      <td>22.428364</td>\n",
              "      <td>22.840651</td>\n",
              "      <td>57845700</td>\n",
              "      <td>0.00</td>\n",
              "      <td>0</td>\n",
              "    </tr>\n",
              "    <tr>\n",
              "      <th>2012-11-26 00:00:00-05:00</th>\n",
              "      <td>22.708721</td>\n",
              "      <td>22.741703</td>\n",
              "      <td>22.403628</td>\n",
              "      <td>22.585033</td>\n",
              "      <td>85198700</td>\n",
              "      <td>0.00</td>\n",
              "      <td>0</td>\n",
              "    </tr>\n",
              "    <tr>\n",
              "      <th>2012-11-27 00:00:00-05:00</th>\n",
              "      <td>22.560297</td>\n",
              "      <td>22.576787</td>\n",
              "      <td>22.296434</td>\n",
              "      <td>22.329416</td>\n",
              "      <td>45018600</td>\n",
              "      <td>0.00</td>\n",
              "      <td>0</td>\n",
              "    </tr>\n",
              "    <tr>\n",
              "      <th>2012-11-28 00:00:00-05:00</th>\n",
              "      <td>22.271698</td>\n",
              "      <td>22.585035</td>\n",
              "      <td>22.073801</td>\n",
              "      <td>22.560299</td>\n",
              "      <td>53018400</td>\n",
              "      <td>0.00</td>\n",
              "      <td>0</td>\n",
              "    </tr>\n",
              "    <tr>\n",
              "      <th>2012-11-29 00:00:00-05:00</th>\n",
              "      <td>22.354159</td>\n",
              "      <td>22.560302</td>\n",
              "      <td>22.148015</td>\n",
              "      <td>22.222227</td>\n",
              "      <td>69551400</td>\n",
              "      <td>0.00</td>\n",
              "      <td>0</td>\n",
              "    </tr>\n",
              "    <tr>\n",
              "      <th>...</th>\n",
              "      <td>...</td>\n",
              "      <td>...</td>\n",
              "      <td>...</td>\n",
              "      <td>...</td>\n",
              "      <td>...</td>\n",
              "      <td>...</td>\n",
              "      <td>...</td>\n",
              "    </tr>\n",
              "    <tr>\n",
              "      <th>2022-11-16 00:00:00-05:00</th>\n",
              "      <td>242.789993</td>\n",
              "      <td>243.800003</td>\n",
              "      <td>240.419998</td>\n",
              "      <td>241.729996</td>\n",
              "      <td>24093300</td>\n",
              "      <td>0.68</td>\n",
              "      <td>0</td>\n",
              "    </tr>\n",
              "    <tr>\n",
              "      <th>2022-11-17 00:00:00-05:00</th>\n",
              "      <td>237.779999</td>\n",
              "      <td>243.250000</td>\n",
              "      <td>237.630005</td>\n",
              "      <td>241.679993</td>\n",
              "      <td>23123500</td>\n",
              "      <td>0.00</td>\n",
              "      <td>0</td>\n",
              "    </tr>\n",
              "    <tr>\n",
              "      <th>2022-11-18 00:00:00-05:00</th>\n",
              "      <td>243.509995</td>\n",
              "      <td>243.740005</td>\n",
              "      <td>239.029999</td>\n",
              "      <td>241.220001</td>\n",
              "      <td>27591800</td>\n",
              "      <td>0.00</td>\n",
              "      <td>0</td>\n",
              "    </tr>\n",
              "    <tr>\n",
              "      <th>2022-11-21 00:00:00-05:00</th>\n",
              "      <td>241.429993</td>\n",
              "      <td>244.669998</td>\n",
              "      <td>241.190002</td>\n",
              "      <td>242.050003</td>\n",
              "      <td>26378300</td>\n",
              "      <td>0.00</td>\n",
              "      <td>0</td>\n",
              "    </tr>\n",
              "    <tr>\n",
              "      <th>2022-11-22 00:00:00-05:00</th>\n",
              "      <td>243.589996</td>\n",
              "      <td>243.899994</td>\n",
              "      <td>240.710007</td>\n",
              "      <td>242.029999</td>\n",
              "      <td>3542408</td>\n",
              "      <td>0.00</td>\n",
              "      <td>0</td>\n",
              "    </tr>\n",
              "  </tbody>\n",
              "</table>\n",
              "<p>2518 rows × 7 columns</p>\n",
              "</div>\n",
              "      <button class=\"colab-df-convert\" onclick=\"convertToInteractive('df-af523f7b-cb9b-412e-9ba0-190c61f51c21')\"\n",
              "              title=\"Convert this dataframe to an interactive table.\"\n",
              "              style=\"display:none;\">\n",
              "        \n",
              "  <svg xmlns=\"http://www.w3.org/2000/svg\" height=\"24px\"viewBox=\"0 0 24 24\"\n",
              "       width=\"24px\">\n",
              "    <path d=\"M0 0h24v24H0V0z\" fill=\"none\"/>\n",
              "    <path d=\"M18.56 5.44l.94 2.06.94-2.06 2.06-.94-2.06-.94-.94-2.06-.94 2.06-2.06.94zm-11 1L8.5 8.5l.94-2.06 2.06-.94-2.06-.94L8.5 2.5l-.94 2.06-2.06.94zm10 10l.94 2.06.94-2.06 2.06-.94-2.06-.94-.94-2.06-.94 2.06-2.06.94z\"/><path d=\"M17.41 7.96l-1.37-1.37c-.4-.4-.92-.59-1.43-.59-.52 0-1.04.2-1.43.59L10.3 9.45l-7.72 7.72c-.78.78-.78 2.05 0 2.83L4 21.41c.39.39.9.59 1.41.59.51 0 1.02-.2 1.41-.59l7.78-7.78 2.81-2.81c.8-.78.8-2.07 0-2.86zM5.41 20L4 18.59l7.72-7.72 1.47 1.35L5.41 20z\"/>\n",
              "  </svg>\n",
              "      </button>\n",
              "      \n",
              "  <style>\n",
              "    .colab-df-container {\n",
              "      display:flex;\n",
              "      flex-wrap:wrap;\n",
              "      gap: 12px;\n",
              "    }\n",
              "\n",
              "    .colab-df-convert {\n",
              "      background-color: #E8F0FE;\n",
              "      border: none;\n",
              "      border-radius: 50%;\n",
              "      cursor: pointer;\n",
              "      display: none;\n",
              "      fill: #1967D2;\n",
              "      height: 32px;\n",
              "      padding: 0 0 0 0;\n",
              "      width: 32px;\n",
              "    }\n",
              "\n",
              "    .colab-df-convert:hover {\n",
              "      background-color: #E2EBFA;\n",
              "      box-shadow: 0px 1px 2px rgba(60, 64, 67, 0.3), 0px 1px 3px 1px rgba(60, 64, 67, 0.15);\n",
              "      fill: #174EA6;\n",
              "    }\n",
              "\n",
              "    [theme=dark] .colab-df-convert {\n",
              "      background-color: #3B4455;\n",
              "      fill: #D2E3FC;\n",
              "    }\n",
              "\n",
              "    [theme=dark] .colab-df-convert:hover {\n",
              "      background-color: #434B5C;\n",
              "      box-shadow: 0px 1px 3px 1px rgba(0, 0, 0, 0.15);\n",
              "      filter: drop-shadow(0px 1px 2px rgba(0, 0, 0, 0.3));\n",
              "      fill: #FFFFFF;\n",
              "    }\n",
              "  </style>\n",
              "\n",
              "      <script>\n",
              "        const buttonEl =\n",
              "          document.querySelector('#df-af523f7b-cb9b-412e-9ba0-190c61f51c21 button.colab-df-convert');\n",
              "        buttonEl.style.display =\n",
              "          google.colab.kernel.accessAllowed ? 'block' : 'none';\n",
              "\n",
              "        async function convertToInteractive(key) {\n",
              "          const element = document.querySelector('#df-af523f7b-cb9b-412e-9ba0-190c61f51c21');\n",
              "          const dataTable =\n",
              "            await google.colab.kernel.invokeFunction('convertToInteractive',\n",
              "                                                     [key], {});\n",
              "          if (!dataTable) return;\n",
              "\n",
              "          const docLinkHtml = 'Like what you see? Visit the ' +\n",
              "            '<a target=\"_blank\" href=https://colab.research.google.com/notebooks/data_table.ipynb>data table notebook</a>'\n",
              "            + ' to learn more about interactive tables.';\n",
              "          element.innerHTML = '';\n",
              "          dataTable['output_type'] = 'display_data';\n",
              "          await google.colab.output.renderOutput(dataTable, element);\n",
              "          const docLink = document.createElement('div');\n",
              "          docLink.innerHTML = docLinkHtml;\n",
              "          element.appendChild(docLink);\n",
              "        }\n",
              "      </script>\n",
              "    </div>\n",
              "  </div>\n",
              "  "
            ]
          },
          "metadata": {},
          "execution_count": 45
        }
      ]
    },
    {
      "cell_type": "code",
      "source": [
        "# Visualize the closing price history\n",
        "plt.figure(figsize=(16,8))\n",
        "plt.title('Close Price History')\n",
        "plt.plot(df['Close'])\n",
        "plt.xlabel('Date',fontsize=18)\n",
        "plt.ylabel('Close Price USD ($)',fontsize=18)\n",
        "plt.show()"
      ],
      "metadata": {
        "colab": {
          "base_uri": "https://localhost:8080/",
          "height": 558
        },
        "id": "DdtiIqtgt8sV",
        "outputId": "b0bf0bc9-a9e5-4c79-ba3a-1bb1809a2686"
      },
      "execution_count": 46,
      "outputs": [
        {
          "output_type": "display_data",
          "data": {
            "text/plain": [
              "<Figure size 1152x576 with 1 Axes>"
            ],
            "image/png": "[encoded data removed]"
          },
          "metadata": {}
        }
      ]
    },
    {
      "cell_type": "code",
      "source": [
        "#Create a new dataframe with only the 'Close' column\n",
        "data = df.filter(['Close'])\n",
        "# Convert the dataframe to a numpy array\n",
        "dataset = data.values\n",
        "\n",
        "\n",
        "# Get the number of rows to train the model on \n",
        "training_data_len = math.ceil(len(dataset)*.8)\n",
        "\n",
        "training_data_len\n",
        "# dataset"
      ],
      "metadata": {
        "colab": {
          "base_uri": "https://localhost:8080/"
        },
        "id": "iKHvF11U6OvN",
        "outputId": "5d5cf92f-bc3c-43b2-c8f4-3f1faeceeb0c"
      },
      "execution_count": 48,
      "outputs": [
        {
          "output_type": "execute_result",
          "data": {
            "text/plain": [
              "2015"
            ]
          },
          "metadata": {},
          "execution_count": 48
        }
      ]
    },
    {
      "cell_type": "code",
      "source": [
        "# Scale the data\n",
        "scaler = MinMaxScaler(feature_range=(0,1))\n",
        "scaled_data = scaler.fit_transform(dataset)\n",
        "scaled_data"
      ],
      "metadata": {
        "colab": {
          "base_uri": "https://localhost:8080/"
        },
        "id": "8vsEqY656fJE",
        "outputId": "0a7e76f4-88b9-42cc-ec47-1745d113d759"
      },
      "execution_count": 49,
      "outputs": [
        {
          "output_type": "execute_result",
          "data": {
            "text/plain": [
              "array([[0.00344672],\n",
              "       [0.00264335],\n",
              "       [0.00183998],\n",
              "       ...,\n",
              "       [0.68978381],\n",
              "       [0.6923924 ],\n",
              "       [0.69232953]])"
            ]
          },
          "metadata": {},
          "execution_count": 49
        }
      ]
    },
    {
      "cell_type": "code",
      "source": [
        "#Create training data set\n",
        "# Create the scaled training data set\n",
        "train_data = scaled_data[0:training_data_len , :]\n",
        "#Split data into x_train and y_train data sets\n",
        "x_train = []\n",
        "y_train = []\n",
        "\n",
        "for i in range(60 , len(train_data)):\n",
        "    x_train.append(train_data[i-60:i , 0])\n",
        "    y_train.append(train_data[i,0])\n",
        "    if i<= 61:\n",
        "        print(x_train)\n",
        "        print(y_train)\n",
        "        print()"
      ],
      "metadata": {
        "colab": {
          "base_uri": "https://localhost:8080/"
        },
        "id": "0Yql6Dju6jIk",
        "outputId": "2642d4bc-e492-413c-e9a5-97254667e375"
      },
      "execution_count": 50,
      "outputs": [
        {
          "output_type": "stream",
          "name": "stdout",
          "text": [
            "[array([0.00344672, 0.00264335, 0.00183998, 0.00256561, 0.0015031 ,\n",
            "       0.00064788, 0.00015549, 0.        , 0.00077747, 0.00093293,\n",
            "       0.00023324, 0.00147715, 0.00246195, 0.00225462, 0.00191771,\n",
            "       0.00114026, 0.0018918 , 0.0030839 , 0.00243605, 0.00339488,\n",
            "       0.00279885, 0.00178815, 0.00126985, 0.00152898, 0.00046645,\n",
            "       0.00088112, 0.00323938, 0.00228053, 0.00095885, 0.00082929,\n",
            "       0.00046645, 0.00085519, 0.00023324, 0.00119208, 0.00134757,\n",
            "       0.00217688, 0.00173631, 0.00228053, 0.00228053, 0.00202139,\n",
            "       0.00321349, 0.00326531, 0.00391321, 0.00399094, 0.00425009,\n",
            "       0.00383543, 0.00279885, 0.00404277, 0.00277292, 0.00292841,\n",
            "       0.00251378, 0.00235827, 0.00305799, 0.00386135, 0.00391321,\n",
            "       0.00430192, 0.00432783, 0.00425009, 0.0049556 , 0.00448525])]\n",
            "[0.0034923180697815637]\n",
            "\n",
            "[array([0.00344672, 0.00264335, 0.00183998, 0.00256561, 0.0015031 ,\n",
            "       0.00064788, 0.00015549, 0.        , 0.00077747, 0.00093293,\n",
            "       0.00023324, 0.00147715, 0.00246195, 0.00225462, 0.00191771,\n",
            "       0.00114026, 0.0018918 , 0.0030839 , 0.00243605, 0.00339488,\n",
            "       0.00279885, 0.00178815, 0.00126985, 0.00152898, 0.00046645,\n",
            "       0.00088112, 0.00323938, 0.00228053, 0.00095885, 0.00082929,\n",
            "       0.00046645, 0.00085519, 0.00023324, 0.00119208, 0.00134757,\n",
            "       0.00217688, 0.00173631, 0.00228053, 0.00228053, 0.00202139,\n",
            "       0.00321349, 0.00326531, 0.00391321, 0.00399094, 0.00425009,\n",
            "       0.00383543, 0.00279885, 0.00404277, 0.00277292, 0.00292841,\n",
            "       0.00251378, 0.00235827, 0.00305799, 0.00386135, 0.00391321,\n",
            "       0.00430192, 0.00432783, 0.00425009, 0.0049556 , 0.00448525]), array([0.00264335, 0.00183998, 0.00256561, 0.0015031 , 0.00064788,\n",
            "       0.00015549, 0.        , 0.00077747, 0.00093293, 0.00023324,\n",
            "       0.00147715, 0.00246195, 0.00225462, 0.00191771, 0.00114026,\n",
            "       0.0018918 , 0.0030839 , 0.00243605, 0.00339488, 0.00279885,\n",
            "       0.00178815, 0.00126985, 0.00152898, 0.00046645, 0.00088112,\n",
            "       0.00323938, 0.00228053, 0.00095885, 0.00082929, 0.00046645,\n",
            "       0.00085519, 0.00023324, 0.00119208, 0.00134757, 0.00217688,\n",
            "       0.00173631, 0.00228053, 0.00228053, 0.00202139, 0.00321349,\n",
            "       0.00326531, 0.00391321, 0.00399094, 0.00425009, 0.00383543,\n",
            "       0.00279885, 0.00404277, 0.00277292, 0.00292841, 0.00251378,\n",
            "       0.00235827, 0.00305799, 0.00386135, 0.00391321, 0.00430192,\n",
            "       0.00432783, 0.00425009, 0.0049556 , 0.00448525, 0.00349232])]\n",
            "[0.0034923180697815637, 0.004197821673475224]\n",
            "\n"
          ]
        }
      ]
    },
    {
      "cell_type": "code",
      "source": [
        "# Convert the x_train and y_train to numpy array\n",
        "x_train , y_train = np.array(x_train) , np.array(y_train)"
      ],
      "metadata": {
        "id": "Y3N2nCMp6xEO"
      },
      "execution_count": 51,
      "outputs": []
    },
    {
      "cell_type": "code",
      "source": [
        "# Reshape the data\n",
        "x_train = np.reshape(x_train , (x_train.shape[0] , x_train.shape[1] , 1))\n",
        "x_train.shape"
      ],
      "metadata": {
        "colab": {
          "base_uri": "https://localhost:8080/"
        },
        "id": "7WaXGoAA6961",
        "outputId": "dda3b0a0-e5a3-42cd-c915-f944234cd9c6"
      },
      "execution_count": 52,
      "outputs": [
        {
          "output_type": "execute_result",
          "data": {
            "text/plain": [
              "(1955, 60, 1)"
            ]
          },
          "metadata": {},
          "execution_count": 52
        }
      ]
    },
    {
      "cell_type": "code",
      "source": [
        "# Build the LSTM Model \n",
        "model = Sequential()\n",
        "model.add(LSTM(50, return_sequences = True , input_shape = (x_train.shape[1] , 1)))\n",
        "model.add(LSTM(50, return_sequences = False))\n",
        "model.add(Dense(25))\n",
        "model.add(Dense(1))"
      ],
      "metadata": {
        "id": "rH_v1H0I7DEl"
      },
      "execution_count": 53,
      "outputs": []
    },
    {
      "cell_type": "code",
      "source": [
        "#compile the model \n",
        "model.compile(optimizer='adam',loss='mean_squared_error')"
      ],
      "metadata": {
        "id": "MmaRZwoZ7Hv7"
      },
      "execution_count": 54,
      "outputs": []
    },
    {
      "cell_type": "code",
      "source": [
        "# Train the model\n",
        "model.fit(x_train, y_train , batch_size=1 , epochs=1)"
      ],
      "metadata": {
        "colab": {
          "base_uri": "https://localhost:8080/"
        },
        "id": "Y70b5Sxl7LXb",
        "outputId": "a4c1454e-f0aa-46d7-ea34-af0dd3ef0d39"
      },
      "execution_count": 55,
      "outputs": [
        {
          "output_type": "stream",
          "name": "stdout",
          "text": [
            "1955/1955 [==============================] - 58s 28ms/step - loss: 5.4478e-04\n"
          ]
        },
        {
          "output_type": "execute_result",
          "data": {
            "text/plain": [
              "<keras.callbacks.History at 0x7f9dc12c5f10>"
            ]
          },
          "metadata": {},
          "execution_count": 55
        }
      ]
    },
    {
      "cell_type": "code",
      "source": [
        "\n",
        "# Create the testing data set\n",
        "# Create a new array containing scaled values from index 2074 to 2534\n",
        "test_data = scaled_data[training_data_len - 60: , :]\n",
        "#Create the data sets x_test and y_test\n",
        "x_test = []\n",
        "y_test = dataset[training_data_len: , :]\n",
        "for i in range(60 , len(test_data)):\n",
        "    x_test.append(test_data[i-60:i, 0])"
      ],
      "metadata": {
        "id": "iBcWsUF07P7k"
      },
      "execution_count": 56,
      "outputs": []
    },
    {
      "cell_type": "code",
      "source": [
        "# convert the data to a numpy array\n",
        "x_test = np.array(x_test)"
      ],
      "metadata": {
        "id": "gj_ns6f27W2S"
      },
      "execution_count": 57,
      "outputs": []
    },
    {
      "cell_type": "code",
      "source": [
        "x_test = np.reshape(x_test , (x_test.shape[0], x_test.shape[1] , 1))"
      ],
      "metadata": {
        "id": "w5hLtKuf7xEk"
      },
      "execution_count": 58,
      "outputs": []
    },
    {
      "cell_type": "code",
      "source": [
        "# Get the models predicted price values\n",
        "predictions = model.predict(x_test)\n",
        "predictions = scaler.inverse_transform(predictions)"
      ],
      "metadata": {
        "colab": {
          "base_uri": "https://localhost:8080/"
        },
        "id": "H9BPNCGV71Ik",
        "outputId": "e8371042-8d3e-4beb-bf84-b5790c904980"
      },
      "execution_count": 59,
      "outputs": [
        {
          "output_type": "stream",
          "name": "stdout",
          "text": [
            "16/16 [==============================] - 2s 20ms/step\n"
          ]
        }
      ]
    },
    {
      "cell_type": "code",
      "source": [
        "# Get the root mean squared error (RMSE)\n",
        "rmse = np.sqrt(np.mean( (predictions - y_test)**2))\n",
        "rmse"
      ],
      "metadata": {
        "colab": {
          "base_uri": "https://localhost:8080/"
        },
        "id": "E1XxHegH76q9",
        "outputId": "2d96d579-d6c1-4196-c427-86840ababb7f"
      },
      "execution_count": 60,
      "outputs": [
        {
          "output_type": "execute_result",
          "data": {
            "text/plain": [
              "32.59174187350329"
            ]
          },
          "metadata": {},
          "execution_count": 60
        }
      ]
    },
    {
      "cell_type": "code",
      "source": [
        "# Plot the data\n",
        "train = data[:training_data_len]\n",
        "valid = data[training_data_len:]\n",
        "valid['Predictions'] = predictions\n",
        "# Visualize the data\n",
        "plt.figure(figsize=(16,8))\n",
        "plt.title('Model')\n",
        "plt.xlabel('Date',fontsize=18)\n",
        "plt.ylabel('Close Price USD ($)', fontsize=18)\n",
        "plt.plot(train['Close'])\n",
        "plt.plot(valid[['Close', 'Predictions']])\n",
        "plt.legend(['Train','Val','Predictions'],loc = 'lower right')\n",
        "plt.show()"
      ],
      "metadata": {
        "colab": {
          "base_uri": "https://localhost:8080/",
          "height": 662
        },
        "id": "fqz7ESpW7-gM",
        "outputId": "c03c107d-639f-4997-a36d-21465784844a"
      },
      "execution_count": 61,
      "outputs": [
        {
          "output_type": "stream",
          "name": "stderr",
          "text": [
            "/usr/local/lib/python3.7/dist-packages/ipykernel_launcher.py:4: SettingWithCopyWarning: \n",
            "A value is trying to be set on a copy of a slice from a DataFrame.\n",
            "Try using .loc[row_indexer,col_indexer] = value instead\n",
            "\n",
            "See the caveats in the documentation: https://pandas.pydata.org/pandas-docs/stable/user_guide/indexing.html#returning-a-view-versus-a-copy\n",
            "  after removing the cwd from sys.path.\n"
          ]
        },
        {
          "output_type": "display_data",
          "data": {
            "text/plain": [
              "<Figure size 1152x576 with 1 Axes>"
            ],
            "image/png": "[encoded data removed]"
          },
          "metadata": {}
        }
      ]
    },
    {
      "cell_type": "code",
      "source": [
        "# Show the valid and predicted prices\n",
        "valid"
      ],
      "metadata": {
        "colab": {
          "base_uri": "https://localhost:8080/",
          "height": 656
        },
        "id": "uVXgqfc39O1D",
        "outputId": "da11377f-c749-4406-c3c8-b6857c129ff1"
      },
      "execution_count": 62,
      "outputs": [
        {
          "output_type": "execute_result",
          "data": {
            "text/plain": [
              "                                Close  Predictions\n",
              "Date                                              \n",
              "2020-11-24 00:00:00-05:00  210.113464   189.687958\n",
              "2020-11-25 00:00:00-05:00  210.123260   189.433517\n",
              "2020-11-27 00:00:00-05:00  211.459457   189.356476\n",
              "2020-11-30 00:00:00-05:00  210.319794   189.494125\n",
              "2020-12-01 00:00:00-05:00  212.422302   189.639465\n",
              "...                               ...          ...\n",
              "2022-11-16 00:00:00-05:00  241.729996   210.096146\n",
              "2022-11-17 00:00:00-05:00  241.679993   211.716003\n",
              "2022-11-18 00:00:00-05:00  241.220001   213.051636\n",
              "2022-11-21 00:00:00-05:00  242.050003   214.071609\n",
              "2022-11-22 00:00:00-05:00  242.029999   214.894852\n",
              "\n",
              "[503 rows x 2 columns]"
            ],
            "text/html": [
              "\n",
              "  <div id=\"df-2dc94257-d472-4a7e-90a6-fe4d7362f895\">\n",
              "    <div class=\"colab-df-container\">\n",
              "      <div>\n",
              "<style scoped>\n",
              "    .dataframe tbody tr th:only-of-type {\n",
              "        vertical-align: middle;\n",
              "    }\n",
              "\n",
              "    .dataframe tbody tr th {\n",
              "        vertical-align: top;\n",
              "    }\n",
              "\n",
              "    .dataframe thead th {\n",
              "        text-align: right;\n",
              "    }\n",
              "</style>\n",
              "<table border=\"1\" class=\"dataframe\">\n",
              "  <thead>\n",
              "    <tr style=\"text-align: right;\">\n",
              "      <th></th>\n",
              "      <th>Close</th>\n",
              "      <th>Predictions</th>\n",
              "    </tr>\n",
              "    <tr>\n",
              "      <th>Date</th>\n",
              "      <th></th>\n",
              "      <th></th>\n",
              "    </tr>\n",
              "  </thead>\n",
              "  <tbody>\n",
              "    <tr>\n",
              "      <th>2020-11-24 00:00:00-05:00</th>\n",
              "      <td>210.113464</td>\n",
              "      <td>189.687958</td>\n",
              "    </tr>\n",
              "    <tr>\n",
              "      <th>2020-11-25 00:00:00-05:00</th>\n",
              "      <td>210.123260</td>\n",
              "      <td>189.433517</td>\n",
              "    </tr>\n",
              "    <tr>\n",
              "      <th>2020-11-27 00:00:00-05:00</th>\n",
              "      <td>211.459457</td>\n",
              "      <td>189.356476</td>\n",
              "    </tr>\n",
              "    <tr>\n",
              "      <th>2020-11-30 00:00:00-05:00</th>\n",
              "      <td>210.319794</td>\n",
              "      <td>189.494125</td>\n",
              "    </tr>\n",
              "    <tr>\n",
              "      <th>2020-12-01 00:00:00-05:00</th>\n",
              "      <td>212.422302</td>\n",
              "      <td>189.639465</td>\n",
              "    </tr>\n",
              "    <tr>\n",
              "      <th>...</th>\n",
              "      <td>...</td>\n",
              "      <td>...</td>\n",
              "    </tr>\n",
              "    <tr>\n",
              "      <th>2022-11-16 00:00:00-05:00</th>\n",
              "      <td>241.729996</td>\n",
              "      <td>210.096146</td>\n",
              "    </tr>\n",
              "    <tr>\n",
              "      <th>2022-11-17 00:00:00-05:00</th>\n",
              "      <td>241.679993</td>\n",
              "      <td>211.716003</td>\n",
              "    </tr>\n",
              "    <tr>\n",
              "      <th>2022-11-18 00:00:00-05:00</th>\n",
              "      <td>241.220001</td>\n",
              "      <td>213.051636</td>\n",
              "    </tr>\n",
              "    <tr>\n",
              "      <th>2022-11-21 00:00:00-05:00</th>\n",
              "      <td>242.050003</td>\n",
              "      <td>214.071609</td>\n",
              "    </tr>\n",
              "    <tr>\n",
              "      <th>2022-11-22 00:00:00-05:00</th>\n",
              "      <td>242.029999</td>\n",
              "      <td>214.894852</td>\n",
              "    </tr>\n",
              "  </tbody>\n",
              "</table>\n",
              "<p>503 rows × 2 columns</p>\n",
              "</div>\n",
              "      <button class=\"colab-df-convert\" onclick=\"convertToInteractive('df-2dc94257-d472-4a7e-90a6-fe4d7362f895')\"\n",
              "              title=\"Convert this dataframe to an interactive table.\"\n",
              "              style=\"display:none;\">\n",
              "        \n",
              "  <svg xmlns=\"http://www.w3.org/2000/svg\" height=\"24px\"viewBox=\"0 0 24 24\"\n",
              "       width=\"24px\">\n",
              "    <path d=\"M0 0h24v24H0V0z\" fill=\"none\"/>\n",
              "    <path d=\"M18.56 5.44l.94 2.06.94-2.06 2.06-.94-2.06-.94-.94-2.06-.94 2.06-2.06.94zm-11 1L8.5 8.5l.94-2.06 2.06-.94-2.06-.94L8.5 2.5l-.94 2.06-2.06.94zm10 10l.94 2.06.94-2.06 2.06-.94-2.06-.94-.94-2.06-.94 2.06-2.06.94z\"/><path d=\"M17.41 7.96l-1.37-1.37c-.4-.4-.92-.59-1.43-.59-.52 0-1.04.2-1.43.59L10.3 9.45l-7.72 7.72c-.78.78-.78 2.05 0 2.83L4 21.41c.39.39.9.59 1.41.59.51 0 1.02-.2 1.41-.59l7.78-7.78 2.81-2.81c.8-.78.8-2.07 0-2.86zM5.41 20L4 18.59l7.72-7.72 1.47 1.35L5.41 20z\"/>\n",
              "  </svg>\n",
              "      </button>\n",
              "      \n",
              "  <style>\n",
              "    .colab-df-container {\n",
              "      display:flex;\n",
              "      flex-wrap:wrap;\n",
              "      gap: 12px;\n",
              "    }\n",
              "\n",
              "    .colab-df-convert {\n",
              "      background-color: #E8F0FE;\n",
              "      border: none;\n",
              "      border-radius: 50%;\n",
              "      cursor: pointer;\n",
              "      display: none;\n",
              "      fill: #1967D2;\n",
              "      height: 32px;\n",
              "      padding: 0 0 0 0;\n",
              "      width: 32px;\n",
              "    }\n",
              "\n",
              "    .colab-df-convert:hover {\n",
              "      background-color: #E2EBFA;\n",
              "      box-shadow: 0px 1px 2px rgba(60, 64, 67, 0.3), 0px 1px 3px 1px rgba(60, 64, 67, 0.15);\n",
              "      fill: #174EA6;\n",
              "    }\n",
              "\n",
              "    [theme=dark] .colab-df-convert {\n",
              "      background-color: #3B4455;\n",
              "      fill: #D2E3FC;\n",
              "    }\n",
              "\n",
              "    [theme=dark] .colab-df-convert:hover {\n",
              "      background-color: #434B5C;\n",
              "      box-shadow: 0px 1px 3px 1px rgba(0, 0, 0, 0.15);\n",
              "      filter: drop-shadow(0px 1px 2px rgba(0, 0, 0, 0.3));\n",
              "      fill: #FFFFFF;\n",
              "    }\n",
              "  </style>\n",
              "\n",
              "      <script>\n",
              "        const buttonEl =\n",
              "          document.querySelector('#df-2dc94257-d472-4a7e-90a6-fe4d7362f895 button.colab-df-convert');\n",
              "        buttonEl.style.display =\n",
              "          google.colab.kernel.accessAllowed ? 'block' : 'none';\n",
              "\n",
              "        async function convertToInteractive(key) {\n",
              "          const element = document.querySelector('#df-2dc94257-d472-4a7e-90a6-fe4d7362f895');\n",
              "          const dataTable =\n",
              "            await google.colab.kernel.invokeFunction('convertToInteractive',\n",
              "                                                     [key], {});\n",
              "          if (!dataTable) return;\n",
              "\n",
              "          const docLinkHtml = 'Like what you see? Visit the ' +\n",
              "            '<a target=\"_blank\" href=https://colab.research.google.com/notebooks/data_table.ipynb>data table notebook</a>'\n",
              "            + ' to learn more about interactive tables.';\n",
              "          element.innerHTML = '';\n",
              "          dataTable['output_type'] = 'display_data';\n",
              "          await google.colab.output.renderOutput(dataTable, element);\n",
              "          const docLink = document.createElement('div');\n",
              "          docLink.innerHTML = docLinkHtml;\n",
              "          element.appendChild(docLink);\n",
              "        }\n",
              "      </script>\n",
              "    </div>\n",
              "  </div>\n",
              "  "
            ]
          },
          "metadata": {},
          "execution_count": 62
        }
      ]
    },
    {
      "cell_type": "code",
      "source": [
        "# Get the quote\n",
        "#Get the stock data set\n",
        "Getstockinfo = yahooFinance.Ticker(\"MSFT\")\n",
        " \n",
        "# Valid options are 1d, 5d, 1mo, 3mo, 6mo, 1y, 2y, 5y, 10y and ytd.\n",
        "msft_quote = Getstockinfo.history(period=\"10y\")\n",
        "\n",
        "# Create a new dataframe\n",
        "new_df = msft_quote.filter(['Close'])\n",
        "#Get the last 60 day closing price values and convert the dataframe to an array\n",
        "last_60_days = new_df[-2074:].values\n",
        "#Scale the data to be values between 0 to 1\n",
        "last_60_days_scaled = scaler.transform(last_60_days)\n",
        "#Create an empty list\n",
        "X_test = []\n",
        "# Append the past 60 days\n",
        "X_test.append(last_60_days_scaled)\n",
        "#Convert the X_test data set to a numpy array\n",
        "X_test = np.array(X_test)\n",
        "#Reshape the data\n",
        "X_test = np.reshape(X_test , (X_test.shape[0],X_test.shape[1],1))\n",
        "# Get the predicted scaled price\n",
        "pred_price = model.predict(X_test)\n",
        "# Undo the scaling\n",
        "pred_price = scaler.inverse_transform(pred_price)\n",
        "print(pred_price)"
      ],
      "metadata": {
        "colab": {
          "base_uri": "https://localhost:8080/"
        },
        "id": "FTw31rvo9Y0D",
        "outputId": "6bc51d12-2844-47af-99bd-1abffe3d98b7"
      },
      "execution_count": 65,
      "outputs": [
        {
          "output_type": "stream",
          "name": "stdout",
          "text": [
            "1/1 [==============================] - 1s 961ms/step\n",
            "[[215.51962]]\n"
          ]
        }
      ]
    },
    {
      "cell_type": "code",
      "source": [
        "# Get the quote\n",
        "# msft_quote2 = web.DataReader('MSFT',data_source='yahoo',start='2022-08-09',end='2022-08-09')\n",
        "# print(apple_quote2['Close'])\n",
        "# Get the quote\n",
        "#Get the stock data set\n",
        "Getstockinfo = yahooFinance.Ticker(\"MSFT\")\n",
        " \n",
        "# Valid options are 1d, 5d, 1mo, 3mo, 6mo, 1y, 2y, 5y, 10y and ytd.\n",
        "msft_quote2 = Getstockinfo.history(period=\"10y\")\n",
        "print(msft_quote2['Close'])\n"
      ],
      "metadata": {
        "colab": {
          "base_uri": "https://localhost:8080/"
        },
        "id": "xILfws09-BEM",
        "outputId": "32640f2b-0045-4a5c-f9b5-47c95f342e1b"
      },
      "execution_count": 68,
      "outputs": [
        {
          "output_type": "stream",
          "name": "stdout",
          "text": [
            "Date\n",
            "2012-11-23 00:00:00-05:00     22.840649\n",
            "2012-11-26 00:00:00-05:00     22.585035\n",
            "2012-11-27 00:00:00-05:00     22.329416\n",
            "2012-11-28 00:00:00-05:00     22.560293\n",
            "2012-11-29 00:00:00-05:00     22.222216\n",
            "                                ...    \n",
            "2022-11-16 00:00:00-05:00    241.729996\n",
            "2022-11-17 00:00:00-05:00    241.679993\n",
            "2022-11-18 00:00:00-05:00    241.220001\n",
            "2022-11-21 00:00:00-05:00    242.050003\n",
            "2022-11-22 00:00:00-05:00    241.990005\n",
            "Name: Close, Length: 2518, dtype: float64\n"
          ]
        }
      ]
    }
  ]
}